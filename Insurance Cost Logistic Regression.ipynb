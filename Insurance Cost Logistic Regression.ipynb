{
 "cells": [
  {
   "cell_type": "code",
   "execution_count": null,
   "metadata": {},
   "outputs": [],
   "source": [
    "#Insurance Cost Logistic Regression Project"
   ]
  },
  {
   "cell_type": "code",
   "execution_count": null,
   "metadata": {},
   "outputs": [],
   "source": []
  },
  {
   "cell_type": "code",
   "execution_count": null,
   "metadata": {},
   "outputs": [],
   "source": [
    "#Import libriaries "
   ]
  },
  {
   "cell_type": "code",
   "execution_count": 1,
   "metadata": {},
   "outputs": [],
   "source": [
    "import pandas as pd\n",
    "import seaborn as sns\n",
    "import numpy as np\n",
    "import matplotlib.pyplot as plt\n",
    "from sklearn.model_selection import train_test_split\n",
    "from sklearn.linear_model import LogisticRegression "
   ]
  },
  {
   "cell_type": "code",
   "execution_count": null,
   "metadata": {},
   "outputs": [],
   "source": []
  },
  {
   "cell_type": "code",
   "execution_count": null,
   "metadata": {},
   "outputs": [],
   "source": [
    "#Data Processing"
   ]
  },
  {
   "cell_type": "code",
   "execution_count": null,
   "metadata": {},
   "outputs": [],
   "source": [
    "#Import dataset and define as df"
   ]
  },
  {
   "cell_type": "code",
   "execution_count": 2,
   "metadata": {},
   "outputs": [],
   "source": [
    "df = pd.read_csv(r\"C:\\Users\\Owner\\Desktop\\data\\Lin Reg\\insurance.csv\")"
   ]
  },
  {
   "cell_type": "code",
   "execution_count": null,
   "metadata": {},
   "outputs": [],
   "source": []
  },
  {
   "cell_type": "code",
   "execution_count": 3,
   "metadata": {},
   "outputs": [
    {
     "data": {
      "text/plain": [
       "Index(['age', 'sex', 'bmi', 'children', 'smoker', 'region', 'Charges',\n",
       "       'Smoker'],\n",
       "      dtype='object')"
      ]
     },
     "execution_count": 3,
     "metadata": {},
     "output_type": "execute_result"
    }
   ],
   "source": [
    "df.columns"
   ]
  },
  {
   "cell_type": "code",
   "execution_count": null,
   "metadata": {},
   "outputs": [],
   "source": []
  },
  {
   "cell_type": "code",
   "execution_count": null,
   "metadata": {},
   "outputs": [],
   "source": [
    "#Removing unnecessary columns from dataset and renaming it"
   ]
  },
  {
   "cell_type": "code",
   "execution_count": 4,
   "metadata": {},
   "outputs": [],
   "source": [
    "df_clean = df.drop(columns=['age', 'sex', 'bmi', 'children','region','smoker'])"
   ]
  },
  {
   "cell_type": "code",
   "execution_count": null,
   "metadata": {},
   "outputs": [],
   "source": []
  },
  {
   "cell_type": "code",
   "execution_count": 5,
   "metadata": {},
   "outputs": [
    {
     "data": {
      "text/html": [
       "<div>\n",
       "<style scoped>\n",
       "    .dataframe tbody tr th:only-of-type {\n",
       "        vertical-align: middle;\n",
       "    }\n",
       "\n",
       "    .dataframe tbody tr th {\n",
       "        vertical-align: top;\n",
       "    }\n",
       "\n",
       "    .dataframe thead th {\n",
       "        text-align: right;\n",
       "    }\n",
       "</style>\n",
       "<table border=\"1\" class=\"dataframe\">\n",
       "  <thead>\n",
       "    <tr style=\"text-align: right;\">\n",
       "      <th></th>\n",
       "      <th>Charges</th>\n",
       "      <th>Smoker</th>\n",
       "    </tr>\n",
       "  </thead>\n",
       "  <tbody>\n",
       "    <tr>\n",
       "      <th>0</th>\n",
       "      <td>16884.92400</td>\n",
       "      <td>1</td>\n",
       "    </tr>\n",
       "    <tr>\n",
       "      <th>1</th>\n",
       "      <td>1725.55230</td>\n",
       "      <td>0</td>\n",
       "    </tr>\n",
       "    <tr>\n",
       "      <th>2</th>\n",
       "      <td>4449.46200</td>\n",
       "      <td>0</td>\n",
       "    </tr>\n",
       "    <tr>\n",
       "      <th>3</th>\n",
       "      <td>21984.47061</td>\n",
       "      <td>0</td>\n",
       "    </tr>\n",
       "    <tr>\n",
       "      <th>4</th>\n",
       "      <td>3866.85520</td>\n",
       "      <td>0</td>\n",
       "    </tr>\n",
       "  </tbody>\n",
       "</table>\n",
       "</div>"
      ],
      "text/plain": [
       "       Charges  Smoker\n",
       "0  16884.92400       1\n",
       "1   1725.55230       0\n",
       "2   4449.46200       0\n",
       "3  21984.47061       0\n",
       "4   3866.85520       0"
      ]
     },
     "execution_count": 5,
     "metadata": {},
     "output_type": "execute_result"
    }
   ],
   "source": [
    "df_clean.head()"
   ]
  },
  {
   "cell_type": "code",
   "execution_count": null,
   "metadata": {},
   "outputs": [],
   "source": []
  },
  {
   "cell_type": "code",
   "execution_count": null,
   "metadata": {},
   "outputs": [],
   "source": [
    "#Defining X and y variables "
   ]
  },
  {
   "cell_type": "code",
   "execution_count": null,
   "metadata": {},
   "outputs": [],
   "source": [
    "X = df_clean[('Charges')]\n",
    "\n",
    "y = df_clean[('Smoker')]"
   ]
  },
  {
   "cell_type": "code",
   "execution_count": null,
   "metadata": {},
   "outputs": [],
   "source": []
  },
  {
   "cell_type": "code",
   "execution_count": null,
   "metadata": {},
   "outputs": [],
   "source": [
    "#Visuallizing variables through scatterplot"
   ]
  },
  {
   "cell_type": "code",
   "execution_count": 43,
   "metadata": {},
   "outputs": [
    {
     "data": {
      "text/plain": [
       "<AxesSubplot:xlabel='Charges', ylabel='Smoker'>"
      ]
     },
     "execution_count": 43,
     "metadata": {},
     "output_type": "execute_result"
    },
    {
     "data": {
      "image/png": "[encoded data removed]",
      "text/plain": [
       "<Figure size 432x288 with 1 Axes>"
      ]
     },
     "metadata": {
      "needs_background": "light"
     },
     "output_type": "display_data"
    }
   ],
   "source": [
    "sns.scatterplot(data=df_clean, x=\"Charges\", y=\"Smoker\")"
   ]
  },
  {
   "cell_type": "code",
   "execution_count": null,
   "metadata": {},
   "outputs": [],
   "source": []
  },
  {
   "cell_type": "code",
   "execution_count": null,
   "metadata": {},
   "outputs": [],
   "source": [
    "#"
   ]
  },
  {
   "cell_type": "code",
   "execution_count": 18,
   "metadata": {},
   "outputs": [],
   "source": [
    "X_train, X_test, y_train, y_test = train_test_split(df_clean, y, test_size = 0.20, random_state = 0)"
   ]
  },
  {
   "cell_type": "code",
   "execution_count": null,
   "metadata": {},
   "outputs": [],
   "source": []
  },
  {
   "cell_type": "code",
   "execution_count": 19,
   "metadata": {},
   "outputs": [
    {
     "data": {
      "text/html": [
       "<div>\n",
       "<style scoped>\n",
       "    .dataframe tbody tr th:only-of-type {\n",
       "        vertical-align: middle;\n",
       "    }\n",
       "\n",
       "    .dataframe tbody tr th {\n",
       "        vertical-align: top;\n",
       "    }\n",
       "\n",
       "    .dataframe thead th {\n",
       "        text-align: right;\n",
       "    }\n",
       "</style>\n",
       "<table border=\"1\" class=\"dataframe\">\n",
       "  <thead>\n",
       "    <tr style=\"text-align: right;\">\n",
       "      <th></th>\n",
       "      <th>Charges</th>\n",
       "      <th>Smoker</th>\n",
       "    </tr>\n",
       "  </thead>\n",
       "  <tbody>\n",
       "    <tr>\n",
       "      <th>578</th>\n",
       "      <td>9724.53000</td>\n",
       "      <td>0</td>\n",
       "    </tr>\n",
       "    <tr>\n",
       "      <th>610</th>\n",
       "      <td>8547.69130</td>\n",
       "      <td>0</td>\n",
       "    </tr>\n",
       "    <tr>\n",
       "      <th>569</th>\n",
       "      <td>45702.02235</td>\n",
       "      <td>1</td>\n",
       "    </tr>\n",
       "    <tr>\n",
       "      <th>1034</th>\n",
       "      <td>12950.07120</td>\n",
       "      <td>0</td>\n",
       "    </tr>\n",
       "    <tr>\n",
       "      <th>198</th>\n",
       "      <td>9644.25250</td>\n",
       "      <td>0</td>\n",
       "    </tr>\n",
       "    <tr>\n",
       "      <th>...</th>\n",
       "      <td>...</td>\n",
       "      <td>...</td>\n",
       "    </tr>\n",
       "    <tr>\n",
       "      <th>1084</th>\n",
       "      <td>15019.76005</td>\n",
       "      <td>0</td>\n",
       "    </tr>\n",
       "    <tr>\n",
       "      <th>726</th>\n",
       "      <td>6664.68595</td>\n",
       "      <td>0</td>\n",
       "    </tr>\n",
       "    <tr>\n",
       "      <th>1132</th>\n",
       "      <td>20709.02034</td>\n",
       "      <td>0</td>\n",
       "    </tr>\n",
       "    <tr>\n",
       "      <th>725</th>\n",
       "      <td>40932.42950</td>\n",
       "      <td>1</td>\n",
       "    </tr>\n",
       "    <tr>\n",
       "      <th>963</th>\n",
       "      <td>9500.57305</td>\n",
       "      <td>0</td>\n",
       "    </tr>\n",
       "  </tbody>\n",
       "</table>\n",
       "<p>268 rows × 2 columns</p>\n",
       "</div>"
      ],
      "text/plain": [
       "          Charges  Smoker\n",
       "578    9724.53000       0\n",
       "610    8547.69130       0\n",
       "569   45702.02235       1\n",
       "1034  12950.07120       0\n",
       "198    9644.25250       0\n",
       "...           ...     ...\n",
       "1084  15019.76005       0\n",
       "726    6664.68595       0\n",
       "1132  20709.02034       0\n",
       "725   40932.42950       1\n",
       "963    9500.57305       0\n",
       "\n",
       "[268 rows x 2 columns]"
      ]
     },
     "execution_count": 19,
     "metadata": {},
     "output_type": "execute_result"
    }
   ],
   "source": [
    "X_test"
   ]
  },
  {
   "cell_type": "code",
   "execution_count": null,
   "metadata": {},
   "outputs": [],
   "source": []
  },
  {
   "cell_type": "code",
   "execution_count": null,
   "metadata": {},
   "outputs": [],
   "source": [
    "#Define train_test_split with test size of 20% and train size of 80%"
   ]
  },
  {
   "cell_type": "code",
   "execution_count": 20,
   "metadata": {},
   "outputs": [],
   "source": [
    "lr = LogisticRegression()"
   ]
  },
  {
   "cell_type": "code",
   "execution_count": null,
   "metadata": {},
   "outputs": [],
   "source": []
  },
  {
   "cell_type": "code",
   "execution_count": null,
   "metadata": {},
   "outputs": [],
   "source": [
    "#Creating a variable for linear regression function"
   ]
  },
  {
   "cell_type": "code",
   "execution_count": 21,
   "metadata": {},
   "outputs": [
    {
     "data": {
      "text/plain": [
       "LogisticRegression()"
      ]
     },
     "execution_count": 21,
     "metadata": {},
     "output_type": "execute_result"
    }
   ],
   "source": [
    "lr.fit(X_train, y_train)"
   ]
  },
  {
   "cell_type": "code",
   "execution_count": null,
   "metadata": {},
   "outputs": [],
   "source": []
  },
  {
   "cell_type": "code",
   "execution_count": null,
   "metadata": {},
   "outputs": [],
   "source": [
    "#Create function to make prediction for X_test"
   ]
  },
  {
   "cell_type": "code",
   "execution_count": 22,
   "metadata": {},
   "outputs": [
    {
     "data": {
      "text/plain": [
       "array([0, 0, 1, 0, 0, 0, 0, 0, 0, 0, 0, 0, 0, 0, 1, 0, 0, 0, 0, 1, 1, 0,\n",
       "       0, 1, 0, 0, 0, 0, 0, 0, 0, 1, 0, 0, 1, 0, 0, 1, 1, 0, 0, 0, 1, 1,\n",
       "       1, 0, 0, 0, 0, 0, 0, 0, 1, 1, 0, 0, 0, 0, 0, 0, 0, 1, 0, 0, 0, 0,\n",
       "       1, 1, 0, 0, 0, 0, 1, 0, 0, 0, 0, 0, 1, 1, 0, 1, 0, 0, 1, 1, 0, 0,\n",
       "       0, 1, 0, 0, 0, 0, 0, 0, 1, 1, 0, 0, 0, 0, 0, 1, 1, 0, 0, 0, 0, 1,\n",
       "       0, 0, 0, 1, 1, 0, 0, 0, 0, 0, 1, 0, 0, 0, 0, 0, 1, 1, 1, 0, 0, 0,\n",
       "       0, 0, 1, 1, 1, 0, 1, 0, 0, 0, 0, 0, 0, 0, 0, 0, 0, 0, 0, 1, 0, 0,\n",
       "       0, 0, 0, 0, 0, 0, 0, 0, 0, 0, 0, 0, 1, 0, 0, 0, 0, 0, 0, 0, 0, 0,\n",
       "       0, 0, 1, 0, 0, 0, 0, 0, 0, 1, 0, 0, 0, 0, 1, 0, 0, 1, 0, 0, 0, 0,\n",
       "       0, 0, 0, 1, 0, 1, 0, 1, 0, 0, 0, 0, 0, 0, 0, 0, 0, 0, 0, 0, 0, 0,\n",
       "       0, 0, 0, 0, 0, 0, 0, 0, 0, 0, 0, 0, 0, 0, 0, 0, 0, 1, 0, 0, 0, 1,\n",
       "       0, 0, 0, 0, 0, 0, 0, 0, 1, 1, 0, 0, 0, 0, 0, 0, 0, 0, 0, 1, 1, 0,\n",
       "       0, 0, 1, 0], dtype=int64)"
      ]
     },
     "execution_count": 22,
     "metadata": {},
     "output_type": "execute_result"
    }
   ],
   "source": [
    "lr.predict(X_test)"
   ]
  },
  {
   "cell_type": "code",
   "execution_count": null,
   "metadata": {},
   "outputs": [],
   "source": []
  },
  {
   "cell_type": "code",
   "execution_count": null,
   "metadata": {},
   "outputs": [],
   "source": [
    "#Look at accuracy of tests"
   ]
  },
  {
   "cell_type": "code",
   "execution_count": 23,
   "metadata": {},
   "outputs": [
    {
     "data": {
      "text/plain": [
       "1.0"
      ]
     },
     "execution_count": 23,
     "metadata": {},
     "output_type": "execute_result"
    }
   ],
   "source": [
    "lr.score(X_test,y_test)"
   ]
  },
  {
   "cell_type": "code",
   "execution_count": null,
   "metadata": {},
   "outputs": [],
   "source": []
  },
  {
   "cell_type": "code",
   "execution_count": null,
   "metadata": {},
   "outputs": [],
   "source": [
    "#Predict probablilty of X_test "
   ]
  },
  {
   "cell_type": "code",
   "execution_count": 25,
   "metadata": {},
   "outputs": [
    {
     "data": {
      "text/plain": [
       "array([[9.95276176e-01, 4.72382447e-03],\n",
       "       [9.96051023e-01, 3.94897703e-03],\n",
       "       [1.18484935e-03, 9.98815151e-01],\n",
       "       [9.92287813e-01, 7.71218660e-03],\n",
       "       [9.95333535e-01, 4.66646498e-03],\n",
       "       [9.97869335e-01, 2.13066522e-03],\n",
       "       [9.98500601e-01, 1.49939931e-03],\n",
       "       [9.93871162e-01, 6.12883847e-03],\n",
       "       [9.96614468e-01, 3.38553158e-03],\n",
       "       [9.97546547e-01, 2.45345269e-03],\n",
       "       [9.96995835e-01, 3.00416452e-03],\n",
       "       [9.94689564e-01, 5.31043630e-03],\n",
       "       [9.96715805e-01, 3.28419517e-03],\n",
       "       [9.97969395e-01, 2.03060471e-03],\n",
       "       [7.25080614e-02, 9.27491939e-01],\n",
       "       [9.94518319e-01, 5.48168122e-03],\n",
       "       [9.92771140e-01, 7.22886014e-03],\n",
       "       [9.98173611e-01, 1.82638882e-03],\n",
       "       [9.97128035e-01, 2.87196480e-03],\n",
       "       [7.63347734e-03, 9.92366523e-01],\n",
       "       [3.18701855e-02, 9.68129814e-01],\n",
       "       [9.92638518e-01, 7.36148178e-03],\n",
       "       [9.64892271e-01, 3.51077285e-02],\n",
       "       [3.64113539e-02, 9.63588646e-01],\n",
       "       [9.98615793e-01, 1.38420670e-03],\n",
       "       [9.97814260e-01, 2.18574042e-03],\n",
       "       [9.98104873e-01, 1.89512654e-03],\n",
       "       [9.96538566e-01, 3.46143372e-03],\n",
       "       [9.98097921e-01, 1.90207947e-03],\n",
       "       [9.96130934e-01, 3.86906583e-03],\n",
       "       [9.96333921e-01, 3.66607919e-03],\n",
       "       [7.19186341e-04, 9.99280814e-01],\n",
       "       [9.92253469e-01, 7.74653105e-03],\n",
       "       [9.75466960e-01, 2.45330403e-02],\n",
       "       [1.21627206e-01, 8.78372794e-01],\n",
       "       [9.97984083e-01, 2.01591671e-03],\n",
       "       [9.96169808e-01, 3.83019202e-03],\n",
       "       [5.11950169e-04, 9.99488050e-01],\n",
       "       [2.82726033e-03, 9.97172740e-01],\n",
       "       [9.98571595e-01, 1.42840498e-03],\n",
       "       [9.97534158e-01, 2.46584157e-03],\n",
       "       [9.98339393e-01, 1.66060744e-03],\n",
       "       [5.57292325e-02, 9.44270768e-01],\n",
       "       [9.00795081e-04, 9.99099205e-01],\n",
       "       [5.08502865e-03, 9.94914971e-01],\n",
       "       [9.45780006e-01, 5.42199943e-02],\n",
       "       [9.78491975e-01, 2.15080254e-02],\n",
       "       [9.96908557e-01, 3.09144260e-03],\n",
       "       [9.97797322e-01, 2.20267790e-03],\n",
       "       [9.69052899e-01, 3.09471010e-02],\n",
       "       [9.98331167e-01, 1.66883305e-03],\n",
       "       [9.81235224e-01, 1.87647756e-02],\n",
       "       [3.38078221e-02, 9.66192178e-01],\n",
       "       [1.08887321e-03, 9.98911127e-01],\n",
       "       [9.58229646e-01, 4.17703543e-02],\n",
       "       [9.98234378e-01, 1.76562182e-03],\n",
       "       [9.98471844e-01, 1.52815572e-03],\n",
       "       [9.95879300e-01, 4.12069962e-03],\n",
       "       [9.90277461e-01, 9.72253902e-03],\n",
       "       [9.92095286e-01, 7.90471440e-03],\n",
       "       [9.98701917e-01, 1.29808271e-03],\n",
       "       [1.01452111e-03, 9.98985479e-01],\n",
       "       [9.91066160e-01, 8.93384016e-03],\n",
       "       [9.95343365e-01, 4.65663540e-03],\n",
       "       [9.94489713e-01, 5.51028667e-03],\n",
       "       [9.95163037e-01, 4.83696304e-03],\n",
       "       [8.78629999e-03, 9.91213700e-01],\n",
       "       [3.42432002e-03, 9.96575680e-01],\n",
       "       [9.98258024e-01, 1.74197553e-03],\n",
       "       [9.96275923e-01, 3.72407713e-03],\n",
       "       [9.92179593e-01, 7.82040745e-03],\n",
       "       [9.93760763e-01, 6.23923678e-03],\n",
       "       [9.69946108e-02, 9.03005389e-01],\n",
       "       [9.91109181e-01, 8.89081885e-03],\n",
       "       [9.92214765e-01, 7.78523540e-03],\n",
       "       [9.91969003e-01, 8.03099696e-03],\n",
       "       [9.96809855e-01, 3.19014502e-03],\n",
       "       [9.96512755e-01, 3.48724492e-03],\n",
       "       [5.45539196e-02, 9.45446080e-01],\n",
       "       [9.13630148e-04, 9.99086370e-01],\n",
       "       [9.93661239e-01, 6.33876054e-03],\n",
       "       [1.15603889e-03, 9.98843961e-01],\n",
       "       [9.98532951e-01, 1.46704871e-03],\n",
       "       [9.96663692e-01, 3.33630806e-03],\n",
       "       [2.41595838e-03, 9.97584042e-01],\n",
       "       [6.59908968e-02, 9.34009103e-01],\n",
       "       [9.98195838e-01, 1.80416237e-03],\n",
       "       [9.98381327e-01, 1.61867292e-03],\n",
       "       [9.92976435e-01, 7.02356538e-03],\n",
       "       [4.57961451e-03, 9.95420385e-01],\n",
       "       [9.97181607e-01, 2.81839284e-03],\n",
       "       [9.94910451e-01, 5.08954866e-03],\n",
       "       [9.83754909e-01, 1.62450906e-02],\n",
       "       [9.96070181e-01, 3.92981856e-03],\n",
       "       [9.97863316e-01, 2.13668358e-03],\n",
       "       [9.97647861e-01, 2.35213884e-03],\n",
       "       [1.99056478e-03, 9.98009435e-01],\n",
       "       [3.29521722e-03, 9.96704783e-01],\n",
       "       [9.97582809e-01, 2.41719053e-03],\n",
       "       [9.94601259e-01, 5.39874076e-03],\n",
       "       [9.98583800e-01, 1.41620016e-03],\n",
       "       [9.97564283e-01, 2.43571714e-03],\n",
       "       [9.97917824e-01, 2.08217595e-03],\n",
       "       [3.99009249e-03, 9.96009908e-01],\n",
       "       [8.47353404e-03, 9.91526466e-01],\n",
       "       [9.98211425e-01, 1.78857466e-03],\n",
       "       [9.94621990e-01, 5.37801031e-03],\n",
       "       [9.98155016e-01, 1.84498404e-03],\n",
       "       [9.93379556e-01, 6.62044416e-03],\n",
       "       [4.13572945e-04, 9.99586427e-01],\n",
       "       [9.92823897e-01, 7.17610298e-03],\n",
       "       [9.97944121e-01, 2.05587945e-03],\n",
       "       [9.95605665e-01, 4.39433499e-03],\n",
       "       [7.34163663e-03, 9.92658363e-01],\n",
       "       [7.52312641e-04, 9.99247687e-01],\n",
       "       [9.96513701e-01, 3.48629854e-03],\n",
       "       [9.98553093e-01, 1.44690736e-03],\n",
       "       [9.96112616e-01, 3.88738355e-03],\n",
       "       [9.92962191e-01, 7.03780936e-03],\n",
       "       [9.95570474e-01, 4.42952630e-03],\n",
       "       [2.04573989e-03, 9.97954260e-01],\n",
       "       [9.95080673e-01, 4.91932689e-03],\n",
       "       [9.90509192e-01, 9.49080753e-03],\n",
       "       [9.97545161e-01, 2.45483931e-03],\n",
       "       [9.96567808e-01, 3.43219198e-03],\n",
       "       [9.97733161e-01, 2.26683943e-03],\n",
       "       [3.46517339e-02, 9.65348266e-01],\n",
       "       [4.85659831e-02, 9.51434017e-01],\n",
       "       [8.12302215e-04, 9.99187698e-01],\n",
       "       [9.98563540e-01, 1.43646026e-03],\n",
       "       [9.96243740e-01, 3.75626012e-03],\n",
       "       [9.98604989e-01, 1.39501075e-03],\n",
       "       [9.97331137e-01, 2.66886306e-03],\n",
       "       [9.95530218e-01, 4.46978203e-03],\n",
       "       [4.16903154e-02, 9.58309685e-01],\n",
       "       [5.62009168e-03, 9.94379908e-01],\n",
       "       [6.10538414e-02, 9.38946159e-01],\n",
       "       [9.94992944e-01, 5.00705586e-03],\n",
       "       [3.54612415e-02, 9.64538759e-01],\n",
       "       [9.98359063e-01, 1.64093687e-03],\n",
       "       [9.98486022e-01, 1.51397812e-03],\n",
       "       [9.94607728e-01, 5.39227216e-03],\n",
       "       [9.95568580e-01, 4.43142032e-03],\n",
       "       [9.94736908e-01, 5.26309191e-03],\n",
       "       [9.97737188e-01, 2.26281203e-03],\n",
       "       [9.90516642e-01, 9.48335801e-03],\n",
       "       [9.24981212e-01, 7.50187878e-02],\n",
       "       [9.90354089e-01, 9.64591115e-03],\n",
       "       [9.98625765e-01, 1.37423514e-03],\n",
       "       [9.49582873e-01, 5.04171273e-02],\n",
       "       [9.97085147e-01, 2.91485340e-03],\n",
       "       [3.00118157e-03, 9.96998818e-01],\n",
       "       [9.95100824e-01, 4.89917605e-03],\n",
       "       [9.98606096e-01, 1.39390387e-03],\n",
       "       [9.98373763e-01, 1.62623673e-03],\n",
       "       [9.97109413e-01, 2.89058700e-03],\n",
       "       [9.98395179e-01, 1.60482092e-03],\n",
       "       [9.98606291e-01, 1.39370864e-03],\n",
       "       [9.94189689e-01, 5.81031114e-03],\n",
       "       [9.94987008e-01, 5.01299208e-03],\n",
       "       [9.97753640e-01, 2.24635978e-03],\n",
       "       [9.92249335e-01, 7.75066525e-03],\n",
       "       [9.17956906e-01, 8.20430935e-02],\n",
       "       [9.95509747e-01, 4.49025306e-03],\n",
       "       [9.97855017e-01, 2.14498291e-03],\n",
       "       [9.85490484e-01, 1.45095164e-02],\n",
       "       [1.34017746e-01, 8.65982254e-01],\n",
       "       [9.97275045e-01, 2.72495543e-03],\n",
       "       [9.97888470e-01, 2.11153030e-03],\n",
       "       [9.98624363e-01, 1.37563741e-03],\n",
       "       [9.98008182e-01, 1.99181837e-03],\n",
       "       [9.97890440e-01, 2.10955985e-03],\n",
       "       [9.96190942e-01, 3.80905826e-03],\n",
       "       [9.98548190e-01, 1.45180963e-03],\n",
       "       [9.97945821e-01, 2.05417933e-03],\n",
       "       [9.97867929e-01, 2.13207108e-03],\n",
       "       [9.97892437e-01, 2.10756313e-03],\n",
       "       [9.97273272e-01, 2.72672753e-03],\n",
       "       [1.25628539e-02, 9.87437146e-01],\n",
       "       [9.98608526e-01, 1.39147375e-03],\n",
       "       [9.94098837e-01, 5.90116256e-03],\n",
       "       [9.96975698e-01, 3.02430178e-03],\n",
       "       [9.93945293e-01, 6.05470650e-03],\n",
       "       [9.98430277e-01, 1.56972260e-03],\n",
       "       [9.34102146e-01, 6.58978543e-02],\n",
       "       [1.71951641e-02, 9.82804836e-01],\n",
       "       [9.98487586e-01, 1.51241363e-03],\n",
       "       [9.98406285e-01, 1.59371518e-03],\n",
       "       [9.89956801e-01, 1.00431993e-02],\n",
       "       [9.94788014e-01, 5.21198615e-03],\n",
       "       [2.39287487e-03, 9.97607125e-01],\n",
       "       [9.98031369e-01, 1.96863068e-03],\n",
       "       [9.97528736e-01, 2.47126432e-03],\n",
       "       [4.76895726e-02, 9.52310427e-01],\n",
       "       [9.98421632e-01, 1.57836824e-03],\n",
       "       [9.98551287e-01, 1.44871335e-03],\n",
       "       [9.97150468e-01, 2.84953196e-03],\n",
       "       [9.97086622e-01, 2.91337830e-03],\n",
       "       [9.98008363e-01, 1.99163712e-03],\n",
       "       [9.97951190e-01, 2.04880958e-03],\n",
       "       [9.93800284e-01, 6.19971613e-03],\n",
       "       [9.88350143e-04, 9.99011650e-01],\n",
       "       [9.93045617e-01, 6.95438308e-03],\n",
       "       [6.38794426e-02, 9.36120557e-01],\n",
       "       [9.97890989e-01, 2.10901064e-03],\n",
       "       [1.79814262e-03, 9.98201857e-01],\n",
       "       [9.63863299e-01, 3.61367009e-02],\n",
       "       [9.95677681e-01, 4.32231859e-03],\n",
       "       [9.97387636e-01, 2.61236383e-03],\n",
       "       [9.98722475e-01, 1.27752497e-03],\n",
       "       [9.95917997e-01, 4.08200342e-03],\n",
       "       [9.90897194e-01, 9.10280565e-03],\n",
       "       [9.97588418e-01, 2.41158160e-03],\n",
       "       [9.94440000e-01, 5.55999955e-03],\n",
       "       [9.97203911e-01, 2.79608912e-03],\n",
       "       [9.98552024e-01, 1.44797565e-03],\n",
       "       [9.96998717e-01, 3.00128281e-03],\n",
       "       [9.97572955e-01, 2.42704533e-03],\n",
       "       [9.90955197e-01, 9.04480265e-03],\n",
       "       [9.96938070e-01, 3.06192987e-03],\n",
       "       [9.97240247e-01, 2.75975298e-03],\n",
       "       [9.96374578e-01, 3.62542157e-03],\n",
       "       [9.96210223e-01, 3.78977726e-03],\n",
       "       [9.98251103e-01, 1.74889729e-03],\n",
       "       [9.93475844e-01, 6.52415554e-03],\n",
       "       [9.90663879e-01, 9.33612051e-03],\n",
       "       [9.93048916e-01, 6.95108368e-03],\n",
       "       [9.93486718e-01, 6.51328189e-03],\n",
       "       [9.97041515e-01, 2.95848499e-03],\n",
       "       [9.98514395e-01, 1.48560530e-03],\n",
       "       [9.98725960e-01, 1.27403977e-03],\n",
       "       [9.96172290e-01, 3.82771013e-03],\n",
       "       [9.93071020e-01, 6.92897978e-03],\n",
       "       [9.97849462e-01, 2.15053848e-03],\n",
       "       [9.84360899e-01, 1.56391014e-02],\n",
       "       [9.96939012e-01, 3.06098762e-03],\n",
       "       [9.95471284e-01, 4.52871608e-03],\n",
       "       [6.78291363e-03, 9.93217086e-01],\n",
       "       [9.97294135e-01, 2.70586543e-03],\n",
       "       [9.93592202e-01, 6.40779809e-03],\n",
       "       [9.97562024e-01, 2.43797635e-03],\n",
       "       [4.16214611e-03, 9.95837854e-01],\n",
       "       [9.96698731e-01, 3.30126857e-03],\n",
       "       [9.96722155e-01, 3.27784493e-03],\n",
       "       [9.96132947e-01, 3.86705320e-03],\n",
       "       [9.94715319e-01, 5.28468059e-03],\n",
       "       [9.98231405e-01, 1.76859460e-03],\n",
       "       [9.96514972e-01, 3.48502784e-03],\n",
       "       [9.98373315e-01, 1.62668472e-03],\n",
       "       [9.96947158e-01, 3.05284168e-03],\n",
       "       [6.09975348e-02, 9.39002465e-01],\n",
       "       [9.27492055e-04, 9.99072508e-01],\n",
       "       [9.98029581e-01, 1.97041871e-03],\n",
       "       [9.98242555e-01, 1.75744535e-03],\n",
       "       [9.96722811e-01, 3.27718890e-03],\n",
       "       [9.98609452e-01, 1.39054822e-03],\n",
       "       [9.96661218e-01, 3.33878246e-03],\n",
       "       [9.98625229e-01, 1.37477054e-03],\n",
       "       [9.97742970e-01, 2.25702956e-03],\n",
       "       [9.98153617e-01, 1.84638307e-03],\n",
       "       [9.96016187e-01, 3.98381320e-03],\n",
       "       [2.93625902e-02, 9.70637410e-01],\n",
       "       [1.18336910e-03, 9.98816631e-01],\n",
       "       [9.89447177e-01, 1.05528235e-02],\n",
       "       [9.97036027e-01, 2.96397316e-03],\n",
       "       [9.75177198e-01, 2.48228023e-02],\n",
       "       [2.45376184e-03, 9.97546238e-01],\n",
       "       [9.95434471e-01, 4.56552915e-03]])"
      ]
     },
     "execution_count": 25,
     "metadata": {},
     "output_type": "execute_result"
    }
   ],
   "source": [
    "lr.predict_proba(X_test)"
   ]
  },
  {
   "cell_type": "code",
   "execution_count": null,
   "metadata": {},
   "outputs": [],
   "source": []
  },
  {
   "cell_type": "code",
   "execution_count": null,
   "metadata": {},
   "outputs": [],
   "source": []
  },
  {
   "cell_type": "code",
   "execution_count": null,
   "metadata": {},
   "outputs": [],
   "source": []
  },
  {
   "cell_type": "code",
   "execution_count": null,
   "metadata": {},
   "outputs": [],
   "source": []
  },
  {
   "cell_type": "code",
   "execution_count": null,
   "metadata": {},
   "outputs": [],
   "source": []
  }
 ],
 "metadata": {
  "kernelspec": {
   "display_name": "Python 3",
   "language": "python",
   "name": "python3"
  },
  "language_info": {
   "codemirror_mode": {
    "name": "ipython",
    "version": 3
   },
   "file_extension": ".py",
   "mimetype": "text/x-python",
   "name": "python",
   "nbconvert_exporter": "python",
   "pygments_lexer": "ipython3",
   "version": "3.8.3"
  }
 },
 "nbformat": 4,
 "nbformat_minor": 4
}
